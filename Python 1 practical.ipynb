{
 "cells": [
  {
   "cell_type": "code",
   "execution_count": 1,
   "id": "135ef66e",
   "metadata": {},
   "outputs": [
    {
     "name": "stdout",
     "output_type": "stream",
     "text": [
      "Enter Welcome MessageWelcome\n",
      "Hello Welcome\n"
     ]
    }
   ],
   "source": [
    "message=input(\"Enter Welcome Message\")\n",
    "print(\"Hello\",message)"
   ]
  },
  {
   "cell_type": "code",
   "execution_count": 1,
   "id": "cbc2541a",
   "metadata": {},
   "outputs": [
    {
     "name": "stdout",
     "output_type": "stream",
     "text": [
      "Enter Your NameZakwan Zafar\n",
      "Zakwan Zafar\n",
      "Enter Your age20\n",
      "Enter Your Roll no27\n",
      "Enter Your Marks81 %\n"
     ]
    },
    {
     "ename": "ValueError",
     "evalue": "could not convert string to float: '81 %'",
     "output_type": "error",
     "traceback": [
      "\u001b[1;31m---------------------------------------------------------------------------\u001b[0m",
      "\u001b[1;31mValueError\u001b[0m                                Traceback (most recent call last)",
      "Input \u001b[1;32mIn [1]\u001b[0m, in \u001b[0;36m<cell line: 5>\u001b[1;34m()\u001b[0m\n\u001b[0;32m      3\u001b[0m age\u001b[38;5;241m=\u001b[39m\u001b[38;5;28mint\u001b[39m (\u001b[38;5;28minput\u001b[39m(\u001b[38;5;124m\"\u001b[39m\u001b[38;5;124mEnter Your age\u001b[39m\u001b[38;5;124m\"\u001b[39m))\n\u001b[0;32m      4\u001b[0m rollno\u001b[38;5;241m=\u001b[39m\u001b[38;5;28mint\u001b[39m (\u001b[38;5;28minput\u001b[39m(\u001b[38;5;124m\"\u001b[39m\u001b[38;5;124mEnter Your Roll no\u001b[39m\u001b[38;5;124m\"\u001b[39m))\n\u001b[1;32m----> 5\u001b[0m marks\u001b[38;5;241m=\u001b[39m\u001b[38;5;28;43mfloat\u001b[39;49m\u001b[43m \u001b[49m\u001b[43m(\u001b[49m\u001b[38;5;28;43minput\u001b[39;49m\u001b[43m(\u001b[49m\u001b[38;5;124;43m\"\u001b[39;49m\u001b[38;5;124;43mEnter Your Marks\u001b[39;49m\u001b[38;5;124;43m\"\u001b[39;49m\u001b[43m)\u001b[49m\u001b[43m)\u001b[49m\n\u001b[0;32m      6\u001b[0m mobileno\u001b[38;5;241m=\u001b[39m\u001b[38;5;28mint\u001b[39m (\u001b[38;5;28minput\u001b[39m(\u001b[38;5;124m\"\u001b[39m\u001b[38;5;124mEnter Your Mobile No\u001b[39m\u001b[38;5;124m\"\u001b[39m))\n\u001b[0;32m      7\u001b[0m cityname\u001b[38;5;241m=\u001b[39m\u001b[38;5;28minput\u001b[39m(\u001b[38;5;124m\"\u001b[39m\u001b[38;5;124mEnter Your City name\u001b[39m\u001b[38;5;124m\"\u001b[39m)\n",
      "\u001b[1;31mValueError\u001b[0m: could not convert string to float: '81 %'"
     ]
    }
   ],
   "source": [
    "name=input(\"Enter Your Name\")\n",
    "print(name)\n",
    "age=int (input(\"Enter Your age\"))\n",
    "rollno=int (input(\"Enter Your Roll no\"))\n",
    "marks=float (input(\"Enter Your Marks\"))\n",
    "mobileno=int (input(\"Enter Your Mobile No\"))\n",
    "cityname=input(\"Enter Your City name\")\n",
    "address=input(\"Enter Your Address\")\n",
    "print(\"The name is:\",name)\n",
    "print(\"The Age is\",age)\n",
    "print(\"The Rollno is\",rollno)\n",
    "print(\"The Marks is\",marks)\n",
    "print(\"The Mobile no is\",mobileno)\n",
    "print(\"The City name is\",cityname)\n",
    "print(\"The Address is\",address)"
   ]
  },
  {
   "cell_type": "code",
   "execution_count": 2,
   "id": "ed3524d7",
   "metadata": {},
   "outputs": [
    {
     "name": "stdout",
     "output_type": "stream",
     "text": [
      "Enter Your NameZakwan Zafar\n",
      "Zakwan Zafar\n",
      "Enter Your age20\n",
      "Enter Your Roll no27\n",
      "Enter Your Marks80\n",
      "Enter Your Mobile No7002006001\n",
      "Enter Your City nameMalegaon\n",
      "Enter Your AddressMalegaon Guruwar ward \n",
      "The name is: Zakwan Zafar\n",
      "The Age is 20\n",
      "The Rollno is 27\n",
      "The Marks is 80.0\n",
      "The Mobile no is 7002006001\n",
      "The City name is Malegaon\n",
      "The Address is Malegaon Guruwar ward \n"
     ]
    }
   ],
   "source": [
    "name=input(\"Enter Your Name\")\n",
    "print(name)\n",
    "age=int (input(\"Enter Your age\"))\n",
    "rollno=int (input(\"Enter Your Roll no\"))\n",
    "marks=float (input(\"Enter Your Marks\"))\n",
    "mobileno=int (input(\"Enter Your Mobile No\"))\n",
    "cityname=input(\"Enter Your City name\")\n",
    "address=input(\"Enter Your Address\")\n",
    "print(\"The name is:\",name)\n",
    "print(\"The Age is\",age)\n",
    "print(\"The Rollno is\",rollno)\n",
    "print(\"The Marks is\",marks)\n",
    "print(\"The Mobile no is\",mobileno)\n",
    "print(\"The City name is\",cityname)\n",
    "print(\"The Address is\",address)"
   ]
  },
  {
   "cell_type": "code",
   "execution_count": null,
   "id": "e870dbae",
   "metadata": {},
   "outputs": [],
   "source": []
  }
 ],
 "metadata": {
  "kernelspec": {
   "display_name": "Python 3 (ipykernel)",
   "language": "python",
   "name": "python3"
  },
  "language_info": {
   "codemirror_mode": {
    "name": "ipython",
    "version": 3
   },
   "file_extension": ".py",
   "mimetype": "text/x-python",
   "name": "python",
   "nbconvert_exporter": "python",
   "pygments_lexer": "ipython3",
   "version": "3.9.12"
  }
 },
 "nbformat": 4,
 "nbformat_minor": 5
}
