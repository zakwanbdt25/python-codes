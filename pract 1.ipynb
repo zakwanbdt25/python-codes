{
 "cells": [
  {
   "cell_type": "code",
   "execution_count": 1,
   "id": "700d4566",
   "metadata": {},
   "outputs": [
    {
     "name": "stdout",
     "output_type": "stream",
     "text": [
      "Enter Welcome MessageWelcome\n",
      "Hello Welcome\n"
     ]
    }
   ],
   "source": [
    "message=input(\"Enter Welcome Message\")\n",
    "print(\"Hello\",message)"
   ]
  },
  {
   "cell_type": "code",
   "execution_count": 1,
   "id": "970489f2",
   "metadata": {},
   "outputs": [
    {
     "name": "stdout",
     "output_type": "stream",
     "text": [
      "Enter The num110\n",
      "Enter The num220\n",
      "num1=  10\n",
      "num2=  20\n",
      "addition 30\n",
      "Subtraction -10\n",
      "Division 0.5\n",
      "Multiplication 200\n"
     ]
    }
   ],
   "source": [
    "num1=int (input(\"Enter The num1\"))\n",
    "num2=int (input(\"Enter The num2\"))\n",
    "print(\"num1= \",num1)\n",
    "print(\"num2= \",num2)\n",
    "num3=num1+num2;\n",
    "print(\"addition\",num3)\n",
    "num3=num1-num2;\n",
    "print(\"Subtraction\",num3)\n",
    "num3=num1/num2;\n",
    "print(\"Division\",num3)\n",
    "num3=num1*num2;\n",
    "print(\"Multiplication\",num3)\n",
    "\n",
    "\n"
   ]
  },
  {
   "cell_type": "code",
   "execution_count": 1,
   "id": "55ba87f0",
   "metadata": {},
   "outputs": [
    {
     "name": "stdout",
     "output_type": "stream",
     "text": [
      "Addition 70\n"
     ]
    },
    {
     "ename": "NameError",
     "evalue": "name 'num' is not defined",
     "output_type": "error",
     "traceback": [
      "\u001b[1;31m---------------------------------------------------------------------------\u001b[0m",
      "\u001b[1;31mNameError\u001b[0m                                 Traceback (most recent call last)",
      "Input \u001b[1;32mIn [1]\u001b[0m, in \u001b[0;36m<cell line: 5>\u001b[1;34m()\u001b[0m\n\u001b[0;32m      3\u001b[0m num3\u001b[38;5;241m=\u001b[39mnum1\u001b[38;5;241m+\u001b[39mnum2;\n\u001b[0;32m      4\u001b[0m \u001b[38;5;28mprint\u001b[39m(\u001b[38;5;124m\"\u001b[39m\u001b[38;5;124mAddition\u001b[39m\u001b[38;5;124m\"\u001b[39m,num3)\n\u001b[1;32m----> 5\u001b[0m num3\u001b[38;5;241m=\u001b[39mnum1\u001b[38;5;241m-\u001b[39m\u001b[43mnum\u001b[49m;\n\u001b[0;32m      6\u001b[0m \u001b[38;5;28mprint\u001b[39m(\u001b[38;5;124m\"\u001b[39m\u001b[38;5;124mSubtraction\u001b[39m\u001b[38;5;124m\"\u001b[39m,num3)\n\u001b[0;32m      7\u001b[0m num3\u001b[38;5;241m=\u001b[39mnum1\u001b[38;5;241m*\u001b[39mnum2;\n",
      "\u001b[1;31mNameError\u001b[0m: name 'num' is not defined"
     ]
    }
   ],
   "source": [
    "num1=30\n",
    "num2=40\n",
    "num3=num1+num2;\n",
    "print(\"Addition\",num3)\n",
    "num3=num1-num;\n",
    "print(\"Subtraction\",num3)\n",
    "num3=num1*num2;\n",
    "print(\"Multiplication\",num3)\n",
    "num3=num1/num2;\n",
    "print(\"Division\",num3)"
   ]
  },
  {
   "cell_type": "code",
   "execution_count": null,
   "id": "5a094114",
   "metadata": {},
   "outputs": [],
   "source": []
  }
 ],
 "metadata": {
  "kernelspec": {
   "display_name": "Python 3 (ipykernel)",
   "language": "python",
   "name": "python3"
  },
  "language_info": {
   "codemirror_mode": {
    "name": "ipython",
    "version": 3
   },
   "file_extension": ".py",
   "mimetype": "text/x-python",
   "name": "python",
   "nbconvert_exporter": "python",
   "pygments_lexer": "ipython3",
   "version": "3.9.12"
  }
 },
 "nbformat": 4,
 "nbformat_minor": 5
}
